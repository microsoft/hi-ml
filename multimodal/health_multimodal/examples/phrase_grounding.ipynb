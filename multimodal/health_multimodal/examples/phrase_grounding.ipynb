{
 "cells": [
  {
   "cell_type": "code",
   "execution_count": null,
   "metadata": {},
   "outputs": [],
   "source": [
    "#  -------------------------------------------------------------------------------------------\n",
    "#  Copyright (c) Microsoft Corporation. All rights reserved.\n",
    "#  Licensed under the MIT License (MIT). See LICENSE in the repo root for license information.\n",
    "#  -------------------------------------------------------------------------------------------"
   ]
  },
  {
   "cell_type": "code",
   "execution_count": null,
   "metadata": {},
   "outputs": [],
   "source": [
    "import tempfile\n",
    "from pathlib import Path\n",
    "\n",
    "import torch\n",
    "from PIL import Image\n",
    "import matplotlib.pyplot as plt\n",
    "from transformers import AutoModel, AutoTokenizer\n",
    "\n",
    "from health_multimodal.text.inference_engine import TextInferenceEngine\n",
    "from health_multimodal.image.inference_engine import ImageInferenceEngine\n",
    "from health_multimodal.vlp.inference_engine import ImageTextInferenceEngine\n",
    "\n",
    "from health_multimodal.image.model.model import ImageModel\n",
    "from health_multimodal.image.data.transforms import create_chest_xray_transform_for_inference\n",
    "\n",
    "from health_multimodal.common.visualization import plot_phrase_grounding_similarity_map\n"
   ]
  },
  {
   "cell_type": "code",
   "execution_count": null,
   "metadata": {},
   "outputs": [],
   "source": [
    "torch.cuda.is_available()"
   ]
  },
  {
   "cell_type": "code",
   "execution_count": null,
   "metadata": {},
   "outputs": [],
   "source": [
    "# Load the text inference engine\n",
    "URL = \"microsoft/BiomedVLP-CXR-BERT-specialized\"\n",
    "text_inference = TextInferenceEngine(\n",
    "    tokenizer=AutoTokenizer.from_pretrained(URL, trust_remote_code=True),\n",
    "    text_model=AutoModel.from_pretrained(URL, trust_remote_code=True))\n",
    "\n",
    "# Load the image inference engine\n",
    "PRETRAINED_RESNET = \"/home/ozoktay/workspace/hi-ml/multimodal/health_multimodal/checkpoints/biovil_image_resnet50_proj_size_128.pt\"\n",
    "image_inference = ImageInferenceEngine(\n",
    "    image_model=ImageModel(img_model_type=\"resnet50\", joint_feature_size=128, pretrained_model_path=PRETRAINED_RESNET),\n",
    "    transforms=create_chest_xray_transform_for_inference(resize=512, center_crop_size=480))\n",
    "\n",
    "# Instantiate the joint inference engine\n",
    "image_text_inference = ImageTextInferenceEngine(image_inference_engine=image_inference,\n",
    "                                                text_inference_engine=text_inference)\n"
   ]
  },
  {
   "cell_type": "code",
   "execution_count": null,
   "metadata": {},
   "outputs": [],
   "source": [
    "\n",
    "def plot_phrase_grounding(image_path, text_prompt):\n",
    "    sim_map = image_text_inference.get_similarity_map_from_raw_data(image_path=image_path, query_text=text_prompt)\n",
    "    plot_phrase_grounding_similarity_map(image_path=image_path, similarity_map=sim_map)\n",
    "\n",
    "def plot_phrase_grounding_from_url(image_url, text_prompt):\n",
    "    image_path = Path(tempfile.tempdir, 'downloaded_chest_xray.jpg')\n",
    "    !curl -s -L -o {image_path} {image_url}\n",
    "    plot_phrase_grounding(image_path, text_prompt)\n"
   ]
  },
  {
   "cell_type": "code",
   "execution_count": null,
   "metadata": {},
   "outputs": [],
   "source": [
    "text_prompt = \"Pneumonia in the right lung\"\n",
    "image_url = \"https://prod-images-static.radiopaedia.org/images/1371188/0a1f5edc85aa58d5780928cb39b08659c1fc4d6d7c7dce2f8db1d63c7c737234_gallery.jpeg\"\n",
    "plot_phrase_grounding_from_url(image_url, text_prompt)\n"
   ]
  },
  {
   "cell_type": "code",
   "execution_count": null,
   "metadata": {},
   "outputs": [],
   "source": [
    "text_prompt = \"small right pleural effusion\"\n",
    "image_path = \"/datasetdrive/MIMIC-CXR-V2-512-NIFTI/files/p15/p15881002/s59658268/ed730ed6-e391f6a6-55e52913-a66b2844-da028e10.nii.gz\"\n",
    "plot_phrase_grounding(image_path=image_path, text_prompt=text_prompt)\n"
   ]
  },
  {
   "cell_type": "code",
   "execution_count": null,
   "metadata": {},
   "outputs": [],
   "source": []
  }
 ],
 "metadata": {
  "kernelspec": {
   "display_name": "Python 3.7.3 ('himl-multimodal')",
   "language": "python",
   "name": "python3"
  },
  "language_info": {
   "codemirror_mode": {
    "name": "ipython",
    "version": 3
   },
   "file_extension": ".py",
   "mimetype": "text/x-python",
   "name": "python",
   "nbconvert_exporter": "python",
   "pygments_lexer": "ipython3",
   "version": "3.7.3"
  },
  "orig_nbformat": 4,
  "vscode": {
   "interpreter": {
    "hash": "b10e2d33e98f46e002b38decbb3115032da80ae497861a1d67d5527569b17994"
   }
  }
 },
 "nbformat": 4,
 "nbformat_minor": 2
}
