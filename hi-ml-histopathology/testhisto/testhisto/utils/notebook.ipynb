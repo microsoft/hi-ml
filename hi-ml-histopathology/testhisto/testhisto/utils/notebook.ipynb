{
 "cells": [
  {
   "cell_type": "code",
   "execution_count": 29,
   "metadata": {},
   "outputs": [],
   "source": [
    "import sys \n",
    "import importlib\n",
    "from pathlib import Path\n",
    "sys.path.append(\"../../../src\")\n",
    "sys.path.append(\"../../../../hi-ml/src\")\n",
    "sys.path.append(\"../../../../hi-ml-azure/src\")\n",
    "import utils_slides_datamodule as util \n",
    "import pytest "
   ]
  },
  {
   "cell_type": "code",
   "execution_count": 30,
   "metadata": {},
   "outputs": [
    {
     "name": "stdout",
     "output_type": "stream",
     "text": [
      "Using downloaded and verified file: /home/t-kbouzid/.medmnist/pathmnist.npz\n"
     ]
    }
   ],
   "source": [
    "importlib.reload(util)    \n",
    "generator = util.MockWSIGenerator(tmp_path=Path(\"/tmp/mock\"))"
   ]
  },
  {
   "cell_type": "code",
   "execution_count": 33,
   "metadata": {},
   "outputs": [
    {
     "name": "stderr",
     "output_type": "stream",
     "text": [
      "[Plugin: cucim.kit.cuslide] Loading the dynamic library from: /home/t-kbouzid/miniconda3/envs/HimlHisto/lib/python3.7/site-packages/cucim/clara/cucim.kit.cuslide@22.02.00.so\n",
      "Initializing plugin: cucim.kit.cuslide (interfaces: [cucim::io::IImageFormat v0.1]) (impl: cucim.kit.cuslide)\n",
      "[Plugin: cucim.kit.cumed] Loading the dynamic library from: /home/t-kbouzid/miniconda3/envs/HimlHisto/lib/python3.7/site-packages/cucim/clara/cucim.kit.cumed@22.02.00.so\n",
      "Initializing plugin: cucim.kit.cumed (interfaces: [cucim::io::IImageFormat v0.1]) (impl: cucim.kit.cumed)\n"
     ]
    }
   ],
   "source": [
    "mock_wsi_root_dir = Path(\"/tmp/mock\")\n",
    "batch_size, tile_count, tile_size, level, channels = 1, 16, 28, 0, 3\n",
    "datamodule = util.MockSlidesDataModule(\n",
    "    root_path=mock_wsi_root_dir, batch_size=batch_size, tile_count=tile_count, tile_size=tile_size, level=level\n",
    ")\n",
    "dataloader = datamodule.train_dataloader()\n",
    "\n",
    "for sample in dataloader:\n",
    "        # sanity check for expected shape\n",
    "        tiles, wsi_id = sample[\"image\"], sample[\"slide_id\"][0]"
   ]
  },
  {
   "cell_type": "code",
   "execution_count": 19,
   "metadata": {},
   "outputs": [],
   "source": [
    "generator.generate_mock_wsi()"
   ]
  },
  {
   "cell_type": "code",
   "execution_count": 22,
   "metadata": {},
   "outputs": [
    {
     "data": {
      "text/plain": [
       "'/home/t-kbouzid/workspace/repos/hi-ml/hi-ml-histopathology/testhisto/testhisto/utils/py.path_documentation'"
      ]
     },
     "execution_count": 22,
     "metadata": {},
     "output_type": "execute_result"
    }
   ],
   "source": [
    "import py\n",
    "temppath = py.path.local('py.path_documentation')\n",
    "str(temppath)"
   ]
  },
  {
   "cell_type": "code",
   "execution_count": 23,
   "metadata": {},
   "outputs": [
    {
     "data": {
      "text/plain": [
       "local('/home/t-kbouzid/workspace/repos/hi-ml/hi-ml-histopathology/testhisto/testhisto/utils/py.path_documentation/foo')"
      ]
     },
     "execution_count": 23,
     "metadata": {},
     "output_type": "execute_result"
    }
   ],
   "source": [
    "temppath / \"foo\""
   ]
  }
 ],
 "metadata": {
  "interpreter": {
   "hash": "52202c07bdfbca3d4c5865ae6864454e7d6ea43486cb431d96646f705f40329b"
  },
  "kernelspec": {
   "display_name": "Python 3.7.3 ('HimlHisto')",
   "language": "python",
   "name": "python3"
  },
  "language_info": {
   "codemirror_mode": {
    "name": "ipython",
    "version": 3
   },
   "file_extension": ".py",
   "mimetype": "text/x-python",
   "name": "python",
   "nbconvert_exporter": "python",
   "pygments_lexer": "ipython3",
   "version": "3.7.3"
  },
  "orig_nbformat": 4
 },
 "nbformat": 4,
 "nbformat_minor": 2
}
