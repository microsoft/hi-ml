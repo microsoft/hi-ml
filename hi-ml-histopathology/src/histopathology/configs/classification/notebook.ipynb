{
 "cells": [
  {
   "cell_type": "code",
   "execution_count": 1,
   "metadata": {},
   "outputs": [
    {
     "name": "stderr",
     "output_type": "stream",
     "text": [
      "Failure while loading azureml_run_type_providers. Failed to load entrypoint automl = azureml.train.automl.run:AutoMLRun._from_run_dto with exception (cloudpickle 2.0.0 (/home/t-kbouzid/miniconda3/envs/HimlHisto/lib/python3.7/site-packages), Requirement.parse('cloudpickle<2.0.0,>=1.1.0'), {'azureml-dataprep'}).\n"
     ]
    }
   ],
   "source": [
    "import os, sys\n",
    "import importlib\n",
    "import matplotlib.pyplot as plt \n",
    "import numpy as np\n",
    "sys.path.append(\"../../../../src\")\n",
    "sys.path.append(\"../../../../../hi-ml/src\")\n",
    "sys.path.append(\"../../../../../hi-ml-azure/src\")\n",
    "import histopathology.configs.classification.DeepSMILEPanda as mil_configs\n",
    "import histopathology.models.deepmil as deepmil\n",
    "import matplotlib.pyplot as plt"
   ]
  },
  {
   "cell_type": "code",
   "execution_count": 2,
   "metadata": {},
   "outputs": [],
   "source": [
    "data_root = \"/tmp/datasets\"\n",
    "panda_tiles_root = os.path.join(data_root, \"PANDA_tiles\")\n",
    "panda_wsi_root = os.path.join(data_root, \"PANDA\")\n",
    "root = \"~/workspace/repos/hi-ml/hi-ml-histopathology/src/histopathology/configs/classification\"\n",
    "train_csv = os.path.join(root, \"custom_subset/panda/sub_train_tiles.csv\")\n",
    "val_csv = os.path.join(root, \"custom_subset/panda/sub_val_tiles.csv\")\n",
    "\n",
    "# train_csv = os.path.join(root, \"custom_subset/panda/sub_train_slides.csv\")\n",
    "# val_csv = os.path.join(root, \"custom_subset/panda/sub_val_slides.csv\")"
   ]
  },
  {
   "cell_type": "markdown",
   "metadata": {},
   "source": [
    "## Tiles Exploration"
   ]
  },
  {
   "cell_type": "markdown",
   "metadata": {},
   "source": [
    "### MIL Module"
   ]
  },
  {
   "cell_type": "markdown",
   "metadata": {},
   "source": [
    "#### Check data"
   ]
  },
  {
   "cell_type": "code",
   "execution_count": 3,
   "metadata": {},
   "outputs": [],
   "source": [
    "importlib.reload(mil_configs)\n",
    "mil_tiles = mil_configs.SubPandaImageNetMIL(is_finetune=True)\n",
    "mil_tiles.setup()"
   ]
  },
  {
   "cell_type": "code",
   "execution_count": 4,
   "metadata": {},
   "outputs": [
    {
     "name": "stdout",
     "output_type": "stream",
     "text": [
      "Loading dataset from /tmp/innereye_cache1/SubPandaImageNetMIL-ImageNetEncoder/train_dataset.pt into cpu\n"
     ]
    }
   ],
   "source": [
    "data_module = mil_tiles.get_data_module()\n",
    "tiles_dataloader = data_module.train_dataloader()"
   ]
  },
  {
   "cell_type": "code",
   "execution_count": 5,
   "metadata": {},
   "outputs": [
    {
     "data": {
      "text/plain": [
       "dict_keys(['tile_id', 'slide_id', 'mask', 'tile_x', 'tile_y', 'occupancy', 'data_provider', 'slide_isup_grade', 'slide_gleason_score', 'image', 'image_path'])"
      ]
     },
     "execution_count": 5,
     "metadata": {},
     "output_type": "execute_result"
    }
   ],
   "source": [
    "tiles_sample = next(iter(tiles_dataloader))\n",
    "tiles_sample.keys()"
   ]
  },
  {
   "cell_type": "code",
   "execution_count": 13,
   "metadata": {},
   "outputs": [
    {
     "data": {
      "text/plain": [
       "16"
      ]
     },
     "execution_count": 13,
     "metadata": {},
     "output_type": "execute_result"
    }
   ],
   "source": [
    "len(tiles_sample[\"image_path\"])"
   ]
  },
  {
   "cell_type": "code",
   "execution_count": 6,
   "metadata": {},
   "outputs": [
    {
     "data": {
      "text/plain": [
       "75"
      ]
     },
     "execution_count": 6,
     "metadata": {},
     "output_type": "execute_result"
    }
   ],
   "source": [
    "len(tiles_sample[\"slide_id\"][0])"
   ]
  },
  {
   "cell_type": "code",
   "execution_count": 6,
   "metadata": {},
   "outputs": [
    {
     "data": {
      "text/plain": [
       "16"
      ]
     },
     "execution_count": 6,
     "metadata": {},
     "output_type": "execute_result"
    }
   ],
   "source": [
    "len(tiles_sample[\"image\"])"
   ]
  },
  {
   "cell_type": "code",
   "execution_count": 6,
   "metadata": {},
   "outputs": [
    {
     "data": {
      "text/plain": [
       "torch.Size([77, 3, 224, 224])"
      ]
     },
     "execution_count": 6,
     "metadata": {},
     "output_type": "execute_result"
    }
   ],
   "source": [
    "tiles_sample[\"image\"][2].shape"
   ]
  },
  {
   "cell_type": "code",
   "execution_count": 8,
   "metadata": {},
   "outputs": [
    {
     "data": {
      "text/plain": [
       "[tensor([3, 3, 3, 3, 3, 3, 3, 3, 3, 3, 3, 3, 3, 3, 3, 3, 3, 3, 3, 3, 3, 3, 3, 3,\n",
       "         3, 3, 3, 3, 3, 3, 3, 3, 3, 3, 3, 3, 3, 3, 3, 3, 3, 3, 3, 3, 3, 3, 3, 3,\n",
       "         3, 3, 3, 3, 3, 3, 3, 3, 3, 3, 3, 3, 3, 3, 3, 3, 3, 3, 3, 3, 3, 3, 3, 3,\n",
       "         3, 3, 3]),\n",
       " tensor([0, 0, 0, 0, 0, 0, 0, 0, 0, 0, 0, 0, 0, 0, 0, 0, 0, 0, 0, 0, 0, 0, 0, 0,\n",
       "         0, 0, 0, 0, 0, 0, 0, 0, 0, 0, 0, 0, 0, 0, 0, 0, 0, 0, 0, 0, 0, 0, 0, 0,\n",
       "         0, 0, 0, 0, 0, 0, 0, 0, 0, 0, 0, 0, 0, 0, 0, 0]),\n",
       " tensor([0, 0, 0, 0, 0, 0, 0, 0, 0, 0, 0, 0, 0, 0, 0, 0, 0, 0, 0, 0, 0, 0, 0, 0,\n",
       "         0, 0, 0, 0, 0, 0, 0, 0, 0, 0, 0, 0, 0, 0, 0, 0, 0, 0, 0, 0, 0, 0, 0, 0,\n",
       "         0, 0, 0, 0, 0, 0, 0, 0, 0, 0, 0, 0, 0, 0, 0, 0, 0, 0, 0, 0, 0, 0, 0, 0,\n",
       "         0, 0, 0, 0, 0]),\n",
       " tensor([3, 3, 3, 3, 3, 3, 3, 3, 3, 3, 3, 3, 3, 3, 3, 3, 3, 3, 3, 3, 3, 3, 3, 3,\n",
       "         3, 3, 3, 3, 3, 3, 3, 3, 3, 3, 3, 3, 3, 3, 3, 3, 3, 3, 3, 3, 3, 3, 3, 3,\n",
       "         3, 3, 3, 3, 3, 3, 3, 3, 3]),\n",
       " tensor([5, 5, 5, 5, 5, 5, 5, 5, 5, 5, 5, 5, 5, 5, 5, 5, 5, 5, 5, 5, 5, 5, 5, 5,\n",
       "         5, 5, 5, 5, 5, 5, 5, 5, 5, 5, 5, 5, 5, 5, 5, 5, 5, 5, 5, 5, 5, 5, 5, 5,\n",
       "         5, 5, 5, 5, 5, 5]),\n",
       " tensor([2, 2, 2, 2, 2, 2, 2, 2, 2, 2, 2, 2, 2, 2, 2, 2, 2, 2, 2, 2, 2, 2, 2, 2,\n",
       "         2, 2, 2, 2, 2, 2, 2, 2, 2, 2, 2, 2, 2, 2, 2, 2, 2, 2, 2, 2, 2, 2, 2, 2,\n",
       "         2, 2, 2, 2, 2, 2, 2, 2, 2, 2]),\n",
       " tensor([1, 1, 1, 1, 1, 1, 1, 1, 1, 1, 1, 1, 1, 1, 1, 1, 1, 1, 1, 1, 1, 1, 1, 1,\n",
       "         1, 1, 1, 1, 1, 1, 1, 1, 1, 1, 1, 1, 1, 1, 1, 1, 1, 1, 1, 1, 1, 1, 1, 1,\n",
       "         1, 1, 1, 1]),\n",
       " tensor([5, 5, 5, 5, 5, 5, 5, 5, 5, 5, 5, 5, 5, 5, 5, 5, 5, 5, 5, 5, 5, 5, 5, 5,\n",
       "         5, 5, 5, 5, 5, 5, 5, 5, 5, 5, 5, 5, 5, 5, 5, 5, 5, 5, 5, 5, 5, 5, 5, 5,\n",
       "         5, 5, 5, 5, 5, 5, 5, 5, 5, 5, 5, 5, 5, 5, 5, 5, 5, 5, 5, 5, 5, 5, 5, 5,\n",
       "         5, 5, 5, 5, 5]),\n",
       " tensor([4, 4, 4, 4, 4, 4, 4, 4, 4, 4, 4, 4, 4, 4, 4, 4, 4, 4, 4, 4, 4, 4, 4, 4,\n",
       "         4, 4, 4, 4, 4, 4, 4, 4, 4, 4, 4, 4, 4, 4, 4, 4, 4, 4, 4, 4, 4, 4, 4, 4,\n",
       "         4, 4, 4, 4]),\n",
       " tensor([2, 2, 2, 2, 2, 2, 2, 2, 2, 2, 2, 2, 2, 2, 2, 2, 2, 2, 2, 2, 2]),\n",
       " tensor([1, 1, 1, 1, 1, 1, 1, 1, 1, 1, 1, 1, 1, 1, 1, 1, 1, 1, 1, 1, 1, 1, 1, 1,\n",
       "         1, 1, 1, 1, 1, 1, 1, 1, 1, 1, 1, 1, 1, 1, 1, 1, 1, 1, 1, 1, 1]),\n",
       " tensor([4, 4, 4, 4, 4, 4, 4, 4, 4, 4, 4, 4, 4, 4, 4, 4, 4, 4, 4, 4, 4, 4, 4, 4,\n",
       "         4, 4, 4, 4, 4, 4, 4, 4, 4, 4, 4, 4, 4, 4, 4, 4, 4, 4, 4, 4, 4, 4, 4, 4,\n",
       "         4, 4, 4, 4, 4, 4, 4, 4, 4, 4, 4, 4, 4, 4, 4, 4, 4, 4, 4]),\n",
       " tensor([5, 5, 5, 5, 5, 5, 5, 5, 5, 5, 5, 5, 5, 5, 5, 5, 5, 5, 5, 5, 5, 5, 5, 5,\n",
       "         5, 5, 5, 5, 5, 5, 5, 5, 5, 5, 5, 5, 5, 5, 5, 5, 5, 5, 5, 5, 5, 5, 5, 5,\n",
       "         5, 5, 5, 5, 5, 5, 5, 5, 5, 5, 5, 5, 5, 5, 5, 5, 5, 5, 5, 5, 5, 5, 5, 5,\n",
       "         5, 5, 5, 5, 5, 5, 5, 5, 5, 5, 5, 5, 5, 5, 5, 5, 5, 5, 5, 5, 5, 5, 5, 5,\n",
       "         5, 5, 5, 5, 5, 5, 5, 5, 5, 5, 5]),\n",
       " tensor([5, 5, 5, 5, 5, 5, 5, 5, 5, 5, 5, 5, 5, 5]),\n",
       " tensor([4, 4, 4, 4, 4, 4, 4, 4, 4, 4, 4, 4, 4, 4, 4, 4, 4, 4, 4, 4, 4, 4, 4, 4,\n",
       "         4, 4, 4, 4, 4, 4, 4, 4, 4, 4, 4, 4]),\n",
       " tensor([3, 3, 3, 3, 3, 3, 3, 3, 3, 3, 3, 3, 3, 3, 3, 3, 3, 3, 3, 3, 3, 3, 3, 3,\n",
       "         3, 3, 3, 3, 3, 3, 3, 3, 3, 3, 3, 3, 3, 3, 3, 3, 3, 3, 3, 3, 3, 3, 3, 3,\n",
       "         3, 3, 3, 3, 3, 3, 3, 3])]"
      ]
     },
     "execution_count": 8,
     "metadata": {},
     "output_type": "execute_result"
    }
   ],
   "source": [
    "tiles_sample[\"slide_isup_grade\"]"
   ]
  },
  {
   "cell_type": "markdown",
   "metadata": {},
   "source": [
    "#### Check model"
   ]
  },
  {
   "cell_type": "code",
   "execution_count": 7,
   "metadata": {},
   "outputs": [
    {
     "name": "stderr",
     "output_type": "stream",
     "text": [
      "/home/t-kbouzid/miniconda3/envs/HimlHisto/lib/python3.7/site-packages/torchmetrics/utilities/prints.py:36: UserWarning: Metric `AUROC` will save all targets and predictions in buffer. For large datasets this may lead to large memory footprint.\n",
      "  warnings.warn(*args, **kwargs)\n"
     ]
    }
   ],
   "source": [
    "tiles_model = mil_tiles.create_model()"
   ]
  },
  {
   "cell_type": "code",
   "execution_count": 67,
   "metadata": {},
   "outputs": [
    {
     "data": {
      "text/plain": [
       "(torch.Size([1, 6]), torch.Size([1, 77]))"
      ]
     },
     "execution_count": 67,
     "metadata": {},
     "output_type": "execute_result"
    }
   ],
   "source": [
    "out1, out2 = tiles_model(tiles_sample[\"image\"][2])\n",
    "out1.shape, out2.shape"
   ]
  },
  {
   "cell_type": "code",
   "execution_count": 49,
   "metadata": {},
   "outputs": [
    {
     "data": {
      "text/plain": [
       "<SlideKey.LABEL: 'label'>"
      ]
     },
     "execution_count": 49,
     "metadata": {},
     "output_type": "execute_result"
    }
   ],
   "source": [
    "tiles_model.label_column"
   ]
  },
  {
   "cell_type": "code",
   "execution_count": 50,
   "metadata": {},
   "outputs": [
    {
     "data": {
      "text/plain": [
       "torch.float32"
      ]
     },
     "execution_count": 50,
     "metadata": {},
     "output_type": "execute_result"
    }
   ],
   "source": [
    "tiles_sample[\"image\"][2].dtype"
   ]
  },
  {
   "cell_type": "code",
   "execution_count": 81,
   "metadata": {},
   "outputs": [
    {
     "data": {
      "text/plain": [
       "tensor([[[[1.0000, 1.0000, 1.0000,  ..., 0.8196, 0.8118, 0.8118],\n",
       "          [1.0000, 1.0000, 1.0000,  ..., 0.8078, 0.7961, 0.7922],\n",
       "          [1.0000, 1.0000, 1.0000,  ..., 0.8235, 0.8039, 0.7961],\n",
       "          ...,\n",
       "          [1.0000, 1.0000, 1.0000,  ..., 0.7020, 0.6157, 0.7098],\n",
       "          [1.0000, 1.0000, 1.0000,  ..., 0.3451, 0.5137, 0.5686],\n",
       "          [1.0000, 1.0000, 1.0000,  ..., 0.4039, 0.3961, 0.4824]],\n",
       "\n",
       "         [[1.0000, 1.0000, 1.0000,  ..., 0.4824, 0.4863, 0.4824],\n",
       "          [1.0000, 1.0000, 1.0000,  ..., 0.4784, 0.4784, 0.4627],\n",
       "          [1.0000, 1.0000, 1.0000,  ..., 0.4588, 0.5176, 0.4431],\n",
       "          ...,\n",
       "          [1.0000, 1.0000, 1.0000,  ..., 0.4431, 0.2902, 0.4784],\n",
       "          [1.0000, 1.0000, 1.0000,  ..., 0.1059, 0.2078, 0.1922],\n",
       "          [1.0000, 1.0000, 1.0000,  ..., 0.2039, 0.2078, 0.1843]],\n",
       "\n",
       "         [[1.0000, 1.0000, 1.0000,  ..., 0.7255, 0.7294, 0.7451],\n",
       "          [1.0000, 1.0000, 1.0000,  ..., 0.7490, 0.7294, 0.7255],\n",
       "          [1.0000, 1.0000, 1.0000,  ..., 0.7176, 0.7647, 0.7020],\n",
       "          ...,\n",
       "          [1.0000, 1.0000, 1.0000,  ..., 0.6392, 0.6902, 0.7333],\n",
       "          [1.0000, 1.0000, 1.0000,  ..., 0.5098, 0.5451, 0.5922],\n",
       "          [1.0000, 1.0000, 1.0000,  ..., 0.5804, 0.5216, 0.5255]]],\n",
       "\n",
       "\n",
       "        [[[0.8745, 0.8039, 0.9529,  ..., 1.0000, 1.0000, 1.0000],\n",
       "          [0.8824, 0.8039, 0.9373,  ..., 1.0000, 1.0000, 1.0000],\n",
       "          [0.7922, 0.7882, 0.8902,  ..., 1.0000, 1.0000, 1.0000],\n",
       "          ...,\n",
       "          [1.0000, 1.0000, 1.0000,  ..., 1.0000, 1.0000, 1.0000],\n",
       "          [1.0000, 1.0000, 1.0000,  ..., 1.0000, 1.0000, 1.0000],\n",
       "          [1.0000, 1.0000, 1.0000,  ..., 1.0000, 1.0000, 1.0000]],\n",
       "\n",
       "         [[0.6980, 0.6235, 0.6353,  ..., 1.0000, 1.0000, 1.0000],\n",
       "          [0.6627, 0.7176, 0.6941,  ..., 1.0000, 1.0000, 1.0000],\n",
       "          [0.4275, 0.6549, 0.7333,  ..., 1.0000, 1.0000, 1.0000],\n",
       "          ...,\n",
       "          [1.0000, 1.0000, 1.0000,  ..., 1.0000, 1.0000, 1.0000],\n",
       "          [1.0000, 1.0000, 1.0000,  ..., 1.0000, 1.0000, 1.0000],\n",
       "          [1.0000, 1.0000, 1.0000,  ..., 1.0000, 1.0000, 1.0000]],\n",
       "\n",
       "         [[0.8000, 0.7882, 0.8706,  ..., 1.0000, 1.0000, 1.0000],\n",
       "          [0.8392, 0.8980, 0.7882,  ..., 1.0000, 1.0000, 1.0000],\n",
       "          [0.6980, 0.8118, 0.8471,  ..., 1.0000, 1.0000, 1.0000],\n",
       "          ...,\n",
       "          [1.0000, 1.0000, 1.0000,  ..., 1.0000, 1.0000, 1.0000],\n",
       "          [1.0000, 1.0000, 1.0000,  ..., 1.0000, 1.0000, 1.0000],\n",
       "          [1.0000, 1.0000, 1.0000,  ..., 1.0000, 1.0000, 1.0000]]],\n",
       "\n",
       "\n",
       "        [[[0.8431, 0.8667, 0.9020,  ..., 1.0000, 1.0000, 1.0000],\n",
       "          [0.8706, 0.8745, 0.8941,  ..., 1.0000, 1.0000, 1.0000],\n",
       "          [0.8549, 0.8667, 0.9098,  ..., 1.0000, 1.0000, 1.0000],\n",
       "          ...,\n",
       "          [0.0000, 0.0000, 0.0000,  ..., 0.0000, 0.0000, 0.0000],\n",
       "          [0.0000, 0.0000, 0.0000,  ..., 0.0000, 0.0000, 0.0000],\n",
       "          [0.0000, 0.0000, 0.0000,  ..., 0.0000, 0.0000, 0.0000]],\n",
       "\n",
       "         [[0.8196, 0.7765, 0.8235,  ..., 1.0000, 1.0000, 1.0000],\n",
       "          [0.8196, 0.8078, 0.8353,  ..., 1.0000, 1.0000, 1.0000],\n",
       "          [0.7765, 0.8039, 0.8667,  ..., 1.0000, 1.0000, 1.0000],\n",
       "          ...,\n",
       "          [0.0000, 0.0000, 0.0000,  ..., 0.0000, 0.0000, 0.0000],\n",
       "          [0.0000, 0.0000, 0.0000,  ..., 0.0000, 0.0000, 0.0000],\n",
       "          [0.0000, 0.0000, 0.0000,  ..., 0.0000, 0.0000, 0.0000]],\n",
       "\n",
       "         [[0.8588, 0.8588, 0.8471,  ..., 1.0000, 1.0000, 1.0000],\n",
       "          [0.8784, 0.8863, 0.8627,  ..., 1.0000, 1.0000, 1.0000],\n",
       "          [0.8667, 0.8627, 0.8627,  ..., 1.0000, 1.0000, 1.0000],\n",
       "          ...,\n",
       "          [0.0000, 0.0000, 0.0000,  ..., 0.0000, 0.0000, 0.0000],\n",
       "          [0.0000, 0.0000, 0.0000,  ..., 0.0000, 0.0000, 0.0000],\n",
       "          [0.0000, 0.0000, 0.0000,  ..., 0.0000, 0.0000, 0.0000]]],\n",
       "\n",
       "\n",
       "        ...,\n",
       "\n",
       "\n",
       "        [[[1.0000, 1.0000, 1.0000,  ..., 0.5176, 0.4667, 0.5333],\n",
       "          [1.0000, 1.0000, 1.0000,  ..., 0.5373, 0.7333, 0.8235],\n",
       "          [1.0000, 1.0000, 0.9961,  ..., 0.3725, 0.8627, 0.7882],\n",
       "          ...,\n",
       "          [0.8235, 0.8431, 0.8549,  ..., 0.8902, 0.8980, 0.8902],\n",
       "          [0.8000, 0.8118, 0.8235,  ..., 0.8941, 0.8980, 0.8980],\n",
       "          [0.8314, 0.8353, 0.8235,  ..., 0.8902, 0.8980, 0.9059]],\n",
       "\n",
       "         [[1.0000, 1.0000, 1.0000,  ..., 0.2549, 0.2588, 0.3020],\n",
       "          [1.0000, 1.0000, 1.0000,  ..., 0.2941, 0.5059, 0.5294],\n",
       "          [0.9922, 0.9529, 0.9804,  ..., 0.1922, 0.5294, 0.5843],\n",
       "          ...,\n",
       "          [0.4941, 0.5333, 0.4863,  ..., 0.8784, 0.8667, 0.8706],\n",
       "          [0.4745, 0.5059, 0.4706,  ..., 0.8902, 0.8745, 0.8667],\n",
       "          [0.4745, 0.5059, 0.4863,  ..., 0.8863, 0.8824, 0.8549]],\n",
       "\n",
       "         [[1.0000, 1.0000, 1.0000,  ..., 0.6039, 0.5647, 0.6392],\n",
       "          [1.0000, 1.0000, 1.0000,  ..., 0.6275, 0.7059, 0.7725],\n",
       "          [0.9961, 0.9922, 1.0000,  ..., 0.4745, 0.7961, 0.7451],\n",
       "          ...,\n",
       "          [0.7490, 0.7765, 0.7529,  ..., 0.9059, 0.8941, 0.8863],\n",
       "          [0.7333, 0.7529, 0.7255,  ..., 0.9098, 0.8902, 0.8784],\n",
       "          [0.7412, 0.7569, 0.7373,  ..., 0.9176, 0.8980, 0.8863]]],\n",
       "\n",
       "\n",
       "        [[[0.7569, 0.8510, 0.6588,  ..., 1.0000, 1.0000, 1.0000],\n",
       "          [0.7412, 0.8235, 0.8353,  ..., 1.0000, 1.0000, 1.0000],\n",
       "          [0.7255, 0.7647, 0.6824,  ..., 1.0000, 1.0000, 1.0000],\n",
       "          ...,\n",
       "          [1.0000, 1.0000, 1.0000,  ..., 1.0000, 1.0000, 1.0000],\n",
       "          [1.0000, 1.0000, 1.0000,  ..., 1.0000, 1.0000, 1.0000],\n",
       "          [1.0000, 1.0000, 1.0000,  ..., 1.0000, 1.0000, 1.0000]],\n",
       "\n",
       "         [[0.5020, 0.5059, 0.5059,  ..., 1.0000, 1.0000, 1.0000],\n",
       "          [0.4784, 0.4941, 0.6157,  ..., 1.0000, 1.0000, 1.0000],\n",
       "          [0.4235, 0.4549, 0.3608,  ..., 1.0000, 1.0000, 1.0000],\n",
       "          ...,\n",
       "          [1.0000, 1.0000, 1.0000,  ..., 1.0000, 1.0000, 1.0000],\n",
       "          [1.0000, 1.0000, 1.0000,  ..., 1.0000, 1.0000, 1.0000],\n",
       "          [1.0000, 1.0000, 1.0000,  ..., 1.0000, 1.0000, 1.0000]],\n",
       "\n",
       "         [[0.7725, 0.8039, 0.7333,  ..., 1.0000, 1.0000, 1.0000],\n",
       "          [0.7843, 0.7725, 0.7804,  ..., 1.0000, 1.0000, 1.0000],\n",
       "          [0.7098, 0.7333, 0.5765,  ..., 1.0000, 1.0000, 1.0000],\n",
       "          ...,\n",
       "          [1.0000, 1.0000, 1.0000,  ..., 1.0000, 1.0000, 1.0000],\n",
       "          [1.0000, 1.0000, 1.0000,  ..., 1.0000, 1.0000, 1.0000],\n",
       "          [1.0000, 1.0000, 1.0000,  ..., 1.0000, 1.0000, 1.0000]]],\n",
       "\n",
       "\n",
       "        [[[1.0000, 1.0000, 1.0000,  ..., 1.0000, 1.0000, 1.0000],\n",
       "          [1.0000, 1.0000, 1.0000,  ..., 1.0000, 1.0000, 1.0000],\n",
       "          [1.0000, 1.0000, 1.0000,  ..., 1.0000, 1.0000, 1.0000],\n",
       "          ...,\n",
       "          [0.6627, 0.7098, 0.7059,  ..., 0.8078, 0.8078, 0.8157],\n",
       "          [0.6941, 0.5294, 0.4314,  ..., 0.8118, 0.8078, 0.8118],\n",
       "          [0.8196, 0.4784, 0.2314,  ..., 0.8196, 0.8157, 0.8196]],\n",
       "\n",
       "         [[1.0000, 1.0000, 1.0000,  ..., 1.0000, 1.0000, 1.0000],\n",
       "          [1.0000, 1.0000, 1.0000,  ..., 1.0000, 1.0000, 1.0000],\n",
       "          [1.0000, 1.0000, 1.0000,  ..., 1.0000, 1.0000, 1.0000],\n",
       "          ...,\n",
       "          [0.3059, 0.2980, 0.3451,  ..., 0.5020, 0.5137, 0.5176],\n",
       "          [0.5451, 0.2588, 0.2039,  ..., 0.4706, 0.4784, 0.4706],\n",
       "          [0.6039, 0.2078, 0.1059,  ..., 0.4745, 0.4667, 0.4549]],\n",
       "\n",
       "         [[1.0000, 1.0000, 1.0000,  ..., 1.0000, 1.0000, 1.0000],\n",
       "          [1.0000, 1.0000, 1.0000,  ..., 1.0000, 1.0000, 1.0000],\n",
       "          [1.0000, 1.0000, 1.0000,  ..., 1.0000, 1.0000, 1.0000],\n",
       "          ...,\n",
       "          [0.6039, 0.5804, 0.6549,  ..., 0.7451, 0.7529, 0.7647],\n",
       "          [0.7686, 0.6314, 0.5216,  ..., 0.7255, 0.7333, 0.7451],\n",
       "          [0.7294, 0.5686, 0.3765,  ..., 0.7333, 0.7294, 0.7412]]]])"
      ]
     },
     "execution_count": 81,
     "metadata": {},
     "output_type": "execute_result"
    }
   ],
   "source": [
    "tiles_sample[\"image\"][2]"
   ]
  },
  {
   "cell_type": "markdown",
   "metadata": {},
   "source": [
    "## Whole Slide Loading test"
   ]
  },
  {
   "cell_type": "markdown",
   "metadata": {},
   "source": [
    "#### Check data"
   ]
  },
  {
   "cell_type": "code",
   "execution_count": 8,
   "metadata": {},
   "outputs": [],
   "source": [
    "importlib.reload(mil_configs)\n",
    "mil_slides = mil_configs.SubSlidesPandaImageNetMIL()\n",
    "mil_slides.setup()"
   ]
  },
  {
   "cell_type": "code",
   "execution_count": 13,
   "metadata": {},
   "outputs": [
    {
     "data": {
      "text/plain": [
       "True"
      ]
     },
     "execution_count": 13,
     "metadata": {},
     "output_type": "execute_result"
    }
   ],
   "source": [
    "mil_slides.is_finetune"
   ]
  },
  {
   "cell_type": "code",
   "execution_count": 9,
   "metadata": {},
   "outputs": [],
   "source": [
    "data_module = mil_slides.get_data_module()\n",
    "slides_dataloader = data_module.train_dataloader()"
   ]
  },
  {
   "cell_type": "code",
   "execution_count": 10,
   "metadata": {},
   "outputs": [
    {
     "name": "stderr",
     "output_type": "stream",
     "text": [
      "[Plugin: cucim.kit.cuslide] Loading the dynamic library from: /home/t-kbouzid/miniconda3/envs/HimlHisto/lib/python3.7/site-packages/cucim/clara/cucim.kit.cuslide@22.02.00.so\n",
      "[Plugin: cucim.kit.cuslide] Loading the dynamic library from: /home/t-kbouzid/miniconda3/envs/HimlHisto/lib/python3.7/site-packages/cucim/clara/cucim.kit.cuslide@22.02.00.so\n",
      "[Plugin: cucim.kit.cuslide] Loading the dynamic library from: /home/t-kbouzid/miniconda3/envs/HimlHisto/lib/python3.7/site-packages/cucim/clara/cucim.kit.cuslide@22.02.00.so\n",
      "[Plugin: cucim.kit.cuslide] Loading the dynamic library from: /home/t-kbouzid/miniconda3/envs/HimlHisto/lib/python3.7/site-packages/cucim/clara/cucim.kit.cuslide@22.02.00.so\n",
      "[Plugin: cucim.kit.cuslide] Loading the dynamic library from: /home/t-kbouzid/miniconda3/envs/HimlHisto/lib/python3.7/site-packages/cucim/clara/cucim.kit.cuslide@22.02.00.so\n",
      "Initializing plugin: cucim.kit.cuslide (interfaces: [cucim::io::IImageFormat v0.1]) (impl: cucim.kit.cuslide)\n",
      "Initializing plugin: cucim.kit.cuslide (interfaces: [cucim::io::IImageFormat v0.1]) (impl: cucim.kit.cuslide)\n",
      "Initializing plugin: cucim.kit.cuslide (interfaces: [cucim::io::IImageFormat v0.1]) (impl: cucim.kit.cuslide)\n",
      "[Plugin: cucim.kit.cumed] Loading the dynamic library from: /home/t-kbouzid/miniconda3/envs/HimlHisto/lib/python3.7/site-packages/cucim/clara/cucim.kit.cumed@22.02.00.so\n",
      "[Plugin: cucim.kit.cumed] Loading the dynamic library from: /home/t-kbouzid/miniconda3/envs/HimlHisto/lib/python3.7/site-packages/cucim/clara/cucim.kit.cumed@22.02.00.so\n",
      "[Plugin: cucim.kit.cumed] Loading the dynamic library from: /home/t-kbouzid/miniconda3/envs/HimlHisto/lib/python3.7/site-packages/cucim/clara/cucim.kit.cumed@22.02.00.so\n",
      "Initializing plugin: cucim.kit.cuslide (interfaces: [cucim::io::IImageFormat v0.1]) (impl: cucim.kit.cuslide)\n",
      "[Plugin: cucim.kit.cuslide] Loading the dynamic library from: /home/t-kbouzid/miniconda3/envs/HimlHisto/lib/python3.7/site-packages/cucim/clara/cucim.kit.cuslide@22.02.00.so\n",
      "[Plugin: cucim.kit.cumed] Loading the dynamic library from: /home/t-kbouzid/miniconda3/envs/HimlHisto/lib/python3.7/site-packages/cucim/clara/cucim.kit.cumed@22.02.00.so\n",
      "Initializing plugin: cucim.kit.cumed (interfaces: [cucim::io::IImageFormat v0.1]) (impl: cucim.kit.cumed)\n",
      "Initializing plugin: cucim.kit.cumed (interfaces: [cucim::io::IImageFormat v0.1]) (impl: cucim.kit.cumed)\n",
      "Initializing plugin: cucim.kit.cumed (interfaces: [cucim::io::IImageFormat v0.1]) (impl: cucim.kit.cumed)\n",
      "Initializing plugin: cucim.kit.cumed (interfaces: [cucim::io::IImageFormat v0.1]) (impl: cucim.kit.cumed)\n",
      "Initializing plugin: cucim.kit.cuslide (interfaces: [cucim::io::IImageFormat v0.1]) (impl: cucim.kit.cuslide)\n",
      "[Plugin: cucim.kit.cumed] Loading the dynamic library from: /home/t-kbouzid/miniconda3/envs/HimlHisto/lib/python3.7/site-packages/cucim/clara/cucim.kit.cumed@22.02.00.so\n",
      "Initializing plugin: cucim.kit.cumed (interfaces: [cucim::io::IImageFormat v0.1]) (impl: cucim.kit.cumed)\n",
      "Initializing plugin: cucim.kit.cuslide (interfaces: [cucim::io::IImageFormat v0.1]) (impl: cucim.kit.cuslide)\n",
      "[Plugin: cucim.kit.cumed] Loading the dynamic library from: /home/t-kbouzid/miniconda3/envs/HimlHisto/lib/python3.7/site-packages/cucim/clara/cucim.kit.cumed@22.02.00.so\n",
      "Initializing plugin: cucim.kit.cumed (interfaces: [cucim::io::IImageFormat v0.1]) (impl: cucim.kit.cumed)\n"
     ]
    },
    {
     "data": {
      "text/plain": [
       "dict_keys([<SlideKey.SLIDE_ID: 'slide_id'>, <SlideKey.IMAGE: 'image'>, <SlideKey.IMAGE_PATH: 'image_path'>, <SlideKey.MASK: 'mask'>, <SlideKey.MASK_PATH: 'mask_path'>, <SlideKey.LABEL: 'label'>, <SlideKey.METADATA: 'metadata'>])"
      ]
     },
     "execution_count": 10,
     "metadata": {},
     "output_type": "execute_result"
    }
   ],
   "source": [
    "slides_sample = next(iter(slides_dataloader))\n",
    "slides_sample.keys()"
   ]
  },
  {
   "cell_type": "code",
   "execution_count": 11,
   "metadata": {},
   "outputs": [
    {
     "data": {
      "text/plain": [
       "torch.Size([2, 60, 3, 224, 224])"
      ]
     },
     "execution_count": 11,
     "metadata": {},
     "output_type": "execute_result"
    }
   ],
   "source": [
    "slides_sample[\"image\"].shape"
   ]
  },
  {
   "cell_type": "code",
   "execution_count": 12,
   "metadata": {},
   "outputs": [
    {
     "data": {
      "text/plain": [
       "{'data_provider': ['karolinska', 'karolinska'],\n",
       " 'isup_grade': tensor([0, 2]),\n",
       " 'gleason_score': ['0+0', '3+4']}"
      ]
     },
     "execution_count": 12,
     "metadata": {},
     "output_type": "execute_result"
    }
   ],
   "source": [
    "slides_sample[\"metadata\"]"
   ]
  },
  {
   "cell_type": "code",
   "execution_count": 9,
   "metadata": {},
   "outputs": [
    {
     "data": {
      "text/plain": [
       "tensor([5])"
      ]
     },
     "execution_count": 9,
     "metadata": {},
     "output_type": "execute_result"
    }
   ],
   "source": [
    "slides_sample[\"label\"]"
   ]
  },
  {
   "cell_type": "code",
   "execution_count": 10,
   "metadata": {},
   "outputs": [
    {
     "data": {
      "text/plain": [
       "'isup_grade'"
      ]
     },
     "execution_count": 10,
     "metadata": {},
     "output_type": "execute_result"
    }
   ],
   "source": [
    "data_module.train_dataset.LABEL_COLUMN"
   ]
  },
  {
   "cell_type": "markdown",
   "metadata": {},
   "source": [
    "### check model"
   ]
  },
  {
   "cell_type": "code",
   "execution_count": 6,
   "metadata": {},
   "outputs": [
    {
     "name": "stderr",
     "output_type": "stream",
     "text": [
      "/home/t-kbouzid/miniconda3/envs/HimlHisto/lib/python3.7/site-packages/torchmetrics/utilities/prints.py:36: UserWarning: Metric `AUROC` will save all targets and predictions in buffer. For large datasets this may lead to large memory footprint.\n",
      "  warnings.warn(*args, **kwargs)\n"
     ]
    }
   ],
   "source": [
    "slides_model = mil_slides.create_model()"
   ]
  },
  {
   "cell_type": "code",
   "execution_count": 12,
   "metadata": {},
   "outputs": [
    {
     "data": {
      "text/plain": [
       "<SlideKey.LABEL: 'label'>"
      ]
     },
     "execution_count": 12,
     "metadata": {},
     "output_type": "execute_result"
    }
   ],
   "source": [
    "slides_model.label_column"
   ]
  },
  {
   "cell_type": "code",
   "execution_count": 13,
   "metadata": {},
   "outputs": [],
   "source": [
    "encoder = slides_model.encoder"
   ]
  },
  {
   "cell_type": "code",
   "execution_count": 9,
   "metadata": {},
   "outputs": [
    {
     "data": {
      "text/plain": [
       "(torch.Size([1, 6]), torch.Size([1, 60]))"
      ]
     },
     "execution_count": 9,
     "metadata": {},
     "output_type": "execute_result"
    }
   ],
   "source": [
    "out1, out2 = slides_model(slides_sample[\"image\"][0])\n",
    "out1.shape, out2.shape"
   ]
  },
  {
   "cell_type": "code",
   "execution_count": 10,
   "metadata": {},
   "outputs": [
    {
     "data": {
      "text/plain": [
       "tensor([[[[0.4549, 0.3686, 0.3961,  ..., 0.9451, 0.7373, 0.7451],\n",
       "          [0.4588, 0.3804, 0.4118,  ..., 0.8392, 0.6941, 0.8118],\n",
       "          [0.4549, 0.3647, 0.4196,  ..., 0.7608, 0.6667, 0.8784],\n",
       "          ...,\n",
       "          [0.8980, 0.8863, 0.8549,  ..., 0.8980, 0.8667, 0.8549],\n",
       "          [0.8902, 0.8824, 0.8510,  ..., 0.9255, 0.8941, 0.8784],\n",
       "          [0.8784, 0.8706, 0.8431,  ..., 0.9686, 0.9608, 0.9608]],\n",
       "\n",
       "         [[0.2627, 0.1961, 0.1922,  ..., 0.4902, 0.3294, 0.2941],\n",
       "          [0.2667, 0.2118, 0.2314,  ..., 0.4314, 0.3020, 0.3529],\n",
       "          [0.2471, 0.1922, 0.2392,  ..., 0.3608, 0.2706, 0.3843],\n",
       "          ...,\n",
       "          [0.3725, 0.3569, 0.3451,  ..., 0.7373, 0.6941, 0.7294],\n",
       "          [0.3686, 0.3529, 0.3451,  ..., 0.9216, 0.8314, 0.7725],\n",
       "          [0.3608, 0.3490, 0.3412,  ..., 0.9843, 0.9137, 0.8078]],\n",
       "\n",
       "         [[0.5922, 0.4706, 0.4745,  ..., 0.7137, 0.6078, 0.5765],\n",
       "          [0.5686, 0.4941, 0.5137,  ..., 0.6745, 0.5608, 0.5922],\n",
       "          [0.5333, 0.4941, 0.5294,  ..., 0.6392, 0.5216, 0.6118],\n",
       "          ...,\n",
       "          [0.6118, 0.5961, 0.5843,  ..., 0.8706, 0.8275, 0.8275],\n",
       "          [0.6157, 0.5922, 0.5765,  ..., 0.9137, 0.8667, 0.8392],\n",
       "          [0.6000, 0.5725, 0.5569,  ..., 0.9725, 0.9490, 0.9176]]],\n",
       "\n",
       "\n",
       "        [[[0.7216, 0.3647, 0.1647,  ..., 0.6941, 0.7098, 0.8235],\n",
       "          [0.7647, 0.4314, 0.2078,  ..., 0.7255, 0.7686, 0.8667],\n",
       "          [0.6902, 0.4000, 0.2431,  ..., 0.7725, 0.8000, 0.9098],\n",
       "          ...,\n",
       "          [0.5922, 0.9255, 0.8157,  ..., 0.6118, 0.8549, 0.9490],\n",
       "          [0.7412, 0.8667, 0.6745,  ..., 0.7098, 0.8235, 1.0000],\n",
       "          [0.9333, 0.8549, 0.5176,  ..., 0.8941, 0.9451, 0.9569]],\n",
       "\n",
       "         [[0.4549, 0.2039, 0.0980,  ..., 0.3255, 0.3137, 0.3882],\n",
       "          [0.4392, 0.1882, 0.0941,  ..., 0.3529, 0.3294, 0.3412],\n",
       "          [0.4157, 0.1765, 0.1059,  ..., 0.4000, 0.3843, 0.3686],\n",
       "          ...,\n",
       "          [0.3176, 0.6667, 0.5686,  ..., 0.3725, 0.5647, 0.6941],\n",
       "          [0.4471, 0.6039, 0.4314,  ..., 0.4353, 0.5294, 0.7490],\n",
       "          [0.6588, 0.6275, 0.3059,  ..., 0.6078, 0.6588, 0.8000]],\n",
       "\n",
       "         [[0.6902, 0.4706, 0.3765,  ..., 0.6039, 0.5529, 0.6157],\n",
       "          [0.7451, 0.5255, 0.3804,  ..., 0.6314, 0.6392, 0.6196],\n",
       "          [0.7294, 0.5412, 0.4000,  ..., 0.6392, 0.6196, 0.6275],\n",
       "          ...,\n",
       "          [0.5137, 0.8314, 0.8196,  ..., 0.6078, 0.7765, 0.8863],\n",
       "          [0.6353, 0.7804, 0.7098,  ..., 0.6706, 0.7176, 0.8863],\n",
       "          [0.7843, 0.8000, 0.6314,  ..., 0.8392, 0.8235, 0.8941]]],\n",
       "\n",
       "\n",
       "        [[[0.7176, 0.7725, 0.8235,  ..., 0.5804, 0.5725, 0.5490],\n",
       "          [0.6824, 0.7569, 0.7725,  ..., 0.4549, 0.4627, 0.4902],\n",
       "          [0.6627, 0.7373, 0.7020,  ..., 0.3882, 0.4157, 0.4627],\n",
       "          ...,\n",
       "          [0.8353, 0.7961, 0.7843,  ..., 0.6392, 0.6745, 0.6510],\n",
       "          [0.6902, 0.6745, 0.6275,  ..., 0.9490, 0.8235, 0.6314],\n",
       "          [0.6784, 0.6118, 0.5294,  ..., 0.9451, 0.7451, 0.5373]],\n",
       "\n",
       "         [[0.3725, 0.3294, 0.3137,  ..., 0.3059, 0.2706, 0.2667],\n",
       "          [0.2980, 0.3216, 0.3490,  ..., 0.2549, 0.2627, 0.2863],\n",
       "          [0.2510, 0.3137, 0.3451,  ..., 0.2078, 0.2275, 0.2627],\n",
       "          ...,\n",
       "          [0.2549, 0.2784, 0.2824,  ..., 0.4353, 0.4510, 0.4039],\n",
       "          [0.2314, 0.2118, 0.2000,  ..., 0.6824, 0.5725, 0.4275],\n",
       "          [0.2039, 0.1647, 0.1529,  ..., 0.7412, 0.5059, 0.3294]],\n",
       "\n",
       "         [[0.6118, 0.5882, 0.6118,  ..., 0.6118, 0.5608, 0.6000],\n",
       "          [0.5569, 0.5882, 0.6353,  ..., 0.5725, 0.5098, 0.5922],\n",
       "          [0.5294, 0.5843, 0.6118,  ..., 0.5216, 0.4706, 0.5608],\n",
       "          ...,\n",
       "          [0.4314, 0.4471, 0.4667,  ..., 0.6039, 0.5373, 0.5294],\n",
       "          [0.4078, 0.3922, 0.3922,  ..., 0.8588, 0.6471, 0.4745],\n",
       "          [0.3686, 0.3529, 0.3490,  ..., 0.9176, 0.6353, 0.4235]]],\n",
       "\n",
       "\n",
       "        ...,\n",
       "\n",
       "\n",
       "        [[[0.7961, 0.7569, 0.8118,  ..., 0.7569, 0.7098, 0.6471],\n",
       "          [0.8000, 0.7569, 0.9176,  ..., 0.7843, 0.7412, 0.7137],\n",
       "          [0.7961, 0.6941, 0.9098,  ..., 0.8157, 0.7882, 0.7569],\n",
       "          ...,\n",
       "          [0.7373, 0.7882, 0.8784,  ..., 0.4941, 0.4863, 0.4353],\n",
       "          [0.8745, 0.8157, 0.8039,  ..., 0.5333, 0.4941, 0.4235],\n",
       "          [1.0000, 0.9412, 0.7255,  ..., 0.5961, 0.5451, 0.4314]],\n",
       "\n",
       "         [[0.5020, 0.5373, 0.5412,  ..., 0.5686, 0.5569, 0.4824],\n",
       "          [0.5020, 0.4510, 0.6314,  ..., 0.5765, 0.5725, 0.5529],\n",
       "          [0.5176, 0.3765, 0.6510,  ..., 0.6314, 0.6275, 0.5922],\n",
       "          ...,\n",
       "          [0.3529, 0.4235, 0.4118,  ..., 0.3333, 0.3373, 0.3059],\n",
       "          [0.4588, 0.4196, 0.3412,  ..., 0.3529, 0.2980, 0.2471],\n",
       "          [0.5255, 0.4902, 0.2941,  ..., 0.3922, 0.3137, 0.2667]],\n",
       "\n",
       "         [[0.7098, 0.7608, 0.7451,  ..., 0.7451, 0.7725, 0.7176],\n",
       "          [0.7686, 0.7176, 0.8157,  ..., 0.7569, 0.7922, 0.7804],\n",
       "          [0.7843, 0.6392, 0.8353,  ..., 0.7804, 0.8196, 0.7804],\n",
       "          ...,\n",
       "          [0.6118, 0.6706, 0.6784,  ..., 0.6118, 0.5961, 0.5804],\n",
       "          [0.6471, 0.6510, 0.6275,  ..., 0.6314, 0.5647, 0.5137],\n",
       "          [0.7490, 0.7490, 0.5765,  ..., 0.6863, 0.6235, 0.5333]]],\n",
       "\n",
       "\n",
       "        [[[0.8039, 0.8627, 0.8392,  ..., 0.8275, 0.8353, 0.7608],\n",
       "          [0.8902, 0.7608, 0.7020,  ..., 0.8235, 0.8510, 0.8000],\n",
       "          [0.8941, 0.6941, 0.6275,  ..., 0.8392, 0.8667, 0.8392],\n",
       "          ...,\n",
       "          [0.9333, 0.9569, 0.7176,  ..., 0.3922, 0.3451, 0.3333],\n",
       "          [0.9294, 0.8235, 0.5725,  ..., 0.4235, 0.4000, 0.4667],\n",
       "          [0.9490, 0.7529, 0.5608,  ..., 0.5059, 0.4745, 0.5647]],\n",
       "\n",
       "         [[0.4353, 0.4706, 0.4314,  ..., 0.6627, 0.6118, 0.5451],\n",
       "          [0.5137, 0.3922, 0.3294,  ..., 0.6824, 0.6431, 0.6000],\n",
       "          [0.5294, 0.3647, 0.3020,  ..., 0.6863, 0.6549, 0.6353],\n",
       "          ...,\n",
       "          [0.8353, 0.8196, 0.5804,  ..., 0.2157, 0.2039, 0.1922],\n",
       "          [0.8196, 0.6471, 0.4431,  ..., 0.2275, 0.2235, 0.2588],\n",
       "          [0.8510, 0.5725, 0.4353,  ..., 0.2980, 0.2745, 0.3176]],\n",
       "\n",
       "         [[0.6824, 0.7020, 0.6902,  ..., 0.8706, 0.8157, 0.7373],\n",
       "          [0.7216, 0.6667, 0.6275,  ..., 0.8667, 0.8275, 0.7725],\n",
       "          [0.7333, 0.6353, 0.6000,  ..., 0.8549, 0.8235, 0.7961],\n",
       "          ...,\n",
       "          [0.9608, 0.8745, 0.7922,  ..., 0.4667, 0.4588, 0.4588],\n",
       "          [0.9255, 0.8039, 0.7176,  ..., 0.4745, 0.4863, 0.5333],\n",
       "          [0.9333, 0.7961, 0.7373,  ..., 0.5490, 0.5569, 0.6078]]],\n",
       "\n",
       "\n",
       "        [[[0.8941, 0.9059, 0.8549,  ..., 0.4275, 0.4588, 0.4118],\n",
       "          [0.9451, 0.8941, 0.8510,  ..., 0.3804, 0.3373, 0.4392],\n",
       "          [0.9647, 0.8627, 0.8667,  ..., 0.3765, 0.3412, 0.4784],\n",
       "          ...,\n",
       "          [0.8706, 0.8980, 0.9216,  ..., 0.7647, 0.9569, 0.9216],\n",
       "          [0.8902, 0.9137, 0.9412,  ..., 0.7922, 0.8902, 0.7922],\n",
       "          [0.9686, 0.9725, 0.9686,  ..., 0.6863, 0.7529, 0.8000]],\n",
       "\n",
       "         [[0.3882, 0.3843, 0.3176,  ..., 0.2314, 0.2000, 0.1922],\n",
       "          [0.4275, 0.3686, 0.3059,  ..., 0.1804, 0.1882, 0.1922],\n",
       "          [0.4196, 0.3373, 0.3137,  ..., 0.1529, 0.1961, 0.2039],\n",
       "          ...,\n",
       "          [0.7412, 0.7608, 0.8157,  ..., 0.4275, 0.6863, 0.6863],\n",
       "          [0.8157, 0.8784, 0.8980,  ..., 0.3922, 0.4980, 0.4353],\n",
       "          [0.8941, 0.9961, 0.9686,  ..., 0.3569, 0.4314, 0.3843]],\n",
       "\n",
       "         [[0.5961, 0.6039, 0.5647,  ..., 0.5529, 0.4784, 0.4588],\n",
       "          [0.6392, 0.6118, 0.5725,  ..., 0.4941, 0.4510, 0.4667],\n",
       "          [0.6706, 0.6039, 0.5686,  ..., 0.4431, 0.4588, 0.4863],\n",
       "          ...,\n",
       "          [0.8471, 0.8706, 0.8980,  ..., 0.6902, 0.9137, 0.8941],\n",
       "          [0.8588, 0.9059, 0.9333,  ..., 0.6706, 0.7569, 0.6941],\n",
       "          [0.9373, 0.9804, 0.9725,  ..., 0.6078, 0.6706, 0.6549]]]])"
      ]
     },
     "execution_count": 10,
     "metadata": {},
     "output_type": "execute_result"
    }
   ],
   "source": [
    "slides_sample[\"image\"][0]"
   ]
  },
  {
   "cell_type": "code",
   "execution_count": 7,
   "metadata": {},
   "outputs": [
    {
     "name": "stderr",
     "output_type": "stream",
     "text": [
      "../../../../src/histopathology/models/deepmil.py:205: UserWarning: Implicit dimension choice for softmax has been deprecated. Change the call to include dim=X as an argument.\n",
      "  predicted_probs = self.activation_fn(bag_logits)\n",
      "/home/t-kbouzid/miniconda3/envs/HimlHisto/lib/python3.7/site-packages/pytorch_lightning/core/lightning.py:416: UserWarning: You are trying to `self.log()` but the `self.trainer` reference is not registered on the model yet. This is most likely because the model hasn't been passed to the `Trainer`\n",
      "  \"You are trying to `self.log()` but the `self.trainer` reference is not registered on the model yet.\"\n"
     ]
    },
    {
     "ename": "AssertionError",
     "evalue": "No trainer is set for this module.",
     "output_type": "error",
     "traceback": [
      "\u001b[0;31m---------------------------------------------------------------------------\u001b[0m",
      "\u001b[0;31mAssertionError\u001b[0m                            Traceback (most recent call last)",
      "\u001b[0;32m/tmp/ipykernel_112159/4291606790.py\u001b[0m in \u001b[0;36m<module>\u001b[0;34m\u001b[0m\n\u001b[0;32m----> 1\u001b[0;31m \u001b[0mtrain_results\u001b[0m \u001b[0;34m=\u001b[0m \u001b[0mslides_model\u001b[0m\u001b[0;34m.\u001b[0m\u001b[0mtraining_step\u001b[0m\u001b[0;34m(\u001b[0m\u001b[0mslides_sample\u001b[0m\u001b[0;34m,\u001b[0m \u001b[0;36m0\u001b[0m\u001b[0;34m)\u001b[0m\u001b[0;34m\u001b[0m\u001b[0;34m\u001b[0m\u001b[0m\n\u001b[0m",
      "\u001b[0;32m~/workspace/repos/hi-ml/hi-ml-histopathology/src/histopathology/models/deepmil.py\u001b[0m in \u001b[0;36mtraining_step\u001b[0;34m(self, batch, batch_idx)\u001b[0m\n\u001b[1;32m    240\u001b[0m         \u001b[0;32mif\u001b[0m \u001b[0mself\u001b[0m\u001b[0;34m.\u001b[0m\u001b[0mverbose\u001b[0m\u001b[0;34m:\u001b[0m\u001b[0;34m\u001b[0m\u001b[0;34m\u001b[0m\u001b[0m\n\u001b[1;32m    241\u001b[0m             \u001b[0mprint\u001b[0m\u001b[0;34m(\u001b[0m\u001b[0;34mf\"After loading images batch {batch_idx} -\"\u001b[0m\u001b[0;34m,\u001b[0m \u001b[0m_format_cuda_memory_stats\u001b[0m\u001b[0;34m(\u001b[0m\u001b[0;34m)\u001b[0m\u001b[0;34m)\u001b[0m\u001b[0;34m\u001b[0m\u001b[0;34m\u001b[0m\u001b[0m\n\u001b[0;32m--> 242\u001b[0;31m         \u001b[0mself\u001b[0m\u001b[0;34m.\u001b[0m\u001b[0mlog_metrics\u001b[0m\u001b[0;34m(\u001b[0m\u001b[0;34m'train'\u001b[0m\u001b[0;34m)\u001b[0m\u001b[0;34m\u001b[0m\u001b[0;34m\u001b[0m\u001b[0m\n\u001b[0m\u001b[1;32m    243\u001b[0m         \u001b[0;32mreturn\u001b[0m \u001b[0mtrain_result\u001b[0m\u001b[0;34m[\u001b[0m\u001b[0mResultsKey\u001b[0m\u001b[0;34m.\u001b[0m\u001b[0mLOSS\u001b[0m\u001b[0;34m]\u001b[0m\u001b[0;34m\u001b[0m\u001b[0;34m\u001b[0m\u001b[0m\n\u001b[1;32m    244\u001b[0m \u001b[0;34m\u001b[0m\u001b[0m\n",
      "\u001b[0;32m~/workspace/repos/hi-ml/hi-ml-histopathology/src/histopathology/models/deepmil.py\u001b[0m in \u001b[0;36mlog_metrics\u001b[0;34m(self, stage)\u001b[0m\n\u001b[1;32m    167\u001b[0m                     \u001b[0mlog_on_epoch\u001b[0m\u001b[0;34m(\u001b[0m\u001b[0mself\u001b[0m\u001b[0;34m,\u001b[0m \u001b[0;34mf'{stage}/{self.class_names[i]}'\u001b[0m\u001b[0;34m,\u001b[0m \u001b[0mmetric_value_n\u001b[0m\u001b[0;34m[\u001b[0m\u001b[0mi\u001b[0m\u001b[0;34m,\u001b[0m \u001b[0mi\u001b[0m\u001b[0;34m]\u001b[0m\u001b[0;34m)\u001b[0m\u001b[0;34m\u001b[0m\u001b[0;34m\u001b[0m\u001b[0m\n\u001b[1;32m    168\u001b[0m             \u001b[0;32melse\u001b[0m\u001b[0;34m:\u001b[0m\u001b[0;34m\u001b[0m\u001b[0;34m\u001b[0m\u001b[0m\n\u001b[0;32m--> 169\u001b[0;31m                 \u001b[0mlog_on_epoch\u001b[0m\u001b[0;34m(\u001b[0m\u001b[0mself\u001b[0m\u001b[0;34m,\u001b[0m \u001b[0;34mf'{stage}/{metric_name}'\u001b[0m\u001b[0;34m,\u001b[0m \u001b[0mmetric_object\u001b[0m\u001b[0;34m)\u001b[0m\u001b[0;34m\u001b[0m\u001b[0;34m\u001b[0m\u001b[0m\n\u001b[0m\u001b[1;32m    170\u001b[0m \u001b[0;34m\u001b[0m\u001b[0m\n\u001b[1;32m    171\u001b[0m     \u001b[0;32mdef\u001b[0m \u001b[0mforward\u001b[0m\u001b[0;34m(\u001b[0m\u001b[0mself\u001b[0m\u001b[0;34m,\u001b[0m \u001b[0minstances\u001b[0m\u001b[0;34m:\u001b[0m \u001b[0mTensor\u001b[0m\u001b[0;34m)\u001b[0m \u001b[0;34m->\u001b[0m \u001b[0mTuple\u001b[0m\u001b[0;34m[\u001b[0m\u001b[0mTensor\u001b[0m\u001b[0;34m,\u001b[0m \u001b[0mTensor\u001b[0m\u001b[0;34m]\u001b[0m\u001b[0;34m:\u001b[0m  \u001b[0;31m# type: ignore\u001b[0m\u001b[0;34m\u001b[0m\u001b[0;34m\u001b[0m\u001b[0m\n",
      "\u001b[0;32m~/workspace/repos/hi-ml/hi-ml/src/health_ml/utils/logging.py\u001b[0m in \u001b[0;36mlog_on_epoch\u001b[0;34m(module, name, value, metrics, reduce_fx, sync_dist, sync_dist_op)\u001b[0m\n\u001b[1;32m    332\u001b[0m         \u001b[0ma\u001b[0m \u001b[0mvalue\u001b[0m \u001b[0mrecognized\u001b[0m \u001b[0mby\u001b[0m \u001b[0msync_ddp\u001b[0m\u001b[0;34m:\u001b[0m \u001b[0;34m'sum'\u001b[0m\u001b[0;34m,\u001b[0m \u001b[0;34m'mean'\u001b[0m\u001b[0;34m,\u001b[0m \u001b[0;34m'avg'\u001b[0m\u001b[0;34m\u001b[0m\u001b[0;34m\u001b[0m\u001b[0m\n\u001b[1;32m    333\u001b[0m     \"\"\"\n\u001b[0;32m--> 334\u001b[0;31m     \u001b[0;32massert\u001b[0m \u001b[0mmodule\u001b[0m\u001b[0;34m.\u001b[0m\u001b[0mtrainer\u001b[0m \u001b[0;32mis\u001b[0m \u001b[0;32mnot\u001b[0m \u001b[0;32mNone\u001b[0m\u001b[0;34m,\u001b[0m \u001b[0;34m\"No trainer is set for this module.\"\u001b[0m\u001b[0;34m\u001b[0m\u001b[0;34m\u001b[0m\u001b[0m\n\u001b[0m\u001b[1;32m    335\u001b[0m     \u001b[0;32mif\u001b[0m \u001b[0moperator\u001b[0m\u001b[0;34m.\u001b[0m\u001b[0mxor\u001b[0m\u001b[0;34m(\u001b[0m\u001b[0mname\u001b[0m \u001b[0;32mis\u001b[0m \u001b[0;32mNone\u001b[0m\u001b[0;34m,\u001b[0m \u001b[0mvalue\u001b[0m \u001b[0;32mis\u001b[0m \u001b[0;32mNone\u001b[0m\u001b[0;34m)\u001b[0m\u001b[0;34m:\u001b[0m\u001b[0;34m\u001b[0m\u001b[0;34m\u001b[0m\u001b[0m\n\u001b[1;32m    336\u001b[0m         \u001b[0;32mraise\u001b[0m \u001b[0mValueError\u001b[0m\u001b[0;34m(\u001b[0m\u001b[0;34m\"Both or neither of 'name' and 'value' must be provided.\"\u001b[0m\u001b[0;34m)\u001b[0m\u001b[0;34m\u001b[0m\u001b[0;34m\u001b[0m\u001b[0m\n",
      "\u001b[0;31mAssertionError\u001b[0m: No trainer is set for this module."
     ]
    }
   ],
   "source": [
    "train_results = slides_model.training_step(slides_sample, 0)"
   ]
  }
 ],
 "metadata": {
  "interpreter": {
   "hash": "52202c07bdfbca3d4c5865ae6864454e7d6ea43486cb431d96646f705f40329b"
  },
  "kernelspec": {
   "display_name": "Python 3.7.3 ('HimlHisto')",
   "language": "python",
   "name": "python3"
  },
  "language_info": {
   "codemirror_mode": {
    "name": "ipython",
    "version": 3
   },
   "file_extension": ".py",
   "mimetype": "text/x-python",
   "name": "python",
   "nbconvert_exporter": "python",
   "pygments_lexer": "ipython3",
   "version": "3.7.3"
  },
  "orig_nbformat": 4
 },
 "nbformat": 4,
 "nbformat_minor": 2
}
