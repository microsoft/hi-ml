{
 "cells": [
  {
   "cell_type": "code",
   "execution_count": null,
   "metadata": {},
   "outputs": [],
   "source": [
    "#  -------------------------------------------------------------------------------------------\n",
    "#  Copyright (c) Microsoft Corporation. All rights reserved.\n",
    "#  Licensed under the MIT License (MIT). See LICENSE in the repo root for license information.\n",
    "#  -------------------------------------------------------------------------------------------"
   ]
  },
  {
   "cell_type": "code",
   "execution_count": null,
   "metadata": {
    "tags": [
     "parameters"
    ]
   },
   "outputs": [],
   "source": [
    "repo_branch = \"main\""
   ]
  },
  {
   "cell_type": "code",
   "execution_count": null,
   "metadata": {},
   "outputs": [],
   "source": [
    "repo_url = \"git+https://github.com/microsoft/hi-ml.git\"\n",
    "subdirectory = \"hi-ml-multimodal\"\n",
    "pip_source = f\"{repo_url}@{repo_branch}#subdirectory={subdirectory}\"\n",
    "%pip install --quiet {pip_source}"
   ]
  },
  {
   "cell_type": "code",
   "execution_count": null,
   "metadata": {},
   "outputs": [],
   "source": [
    "import tempfile\n",
    "from pathlib import Path\n",
    "\n",
    "from health_multimodal.common.visualization import plot_phrase_grounding_similarity_map\n",
    "from health_multimodal.image import ImageInferenceEngine, ImageModel\n",
    "from health_multimodal.image.data.transforms import create_chest_xray_transform_for_inference\n",
    "from health_multimodal.text.utils import get_cxr_bert_inference\n",
    "from health_multimodal.vlp.inference_engine import ImageTextInferenceEngine"
   ]
  },
  {
   "cell_type": "code",
   "execution_count": null,
   "metadata": {},
   "outputs": [],
   "source": [
    "# Load the text inference engine\n",
    "text_inference = get_cxr_bert_inference()\n",
    "\n",
    "# Load the image inference engine\n",
    "resnet_checkpoint_path = \"\"  # add path to checkpoint here\n",
    "if not Path(resnet_checkpoint_path).is_file():\n",
    "    print(\"Checkpoint file not found!\")\n",
    "    resnet_checkpoint_path = None\n",
    "image_inference = ImageInferenceEngine(\n",
    "    image_model=ImageModel(img_model_type=\"resnet50\", joint_feature_size=128, pretrained_model_path=resnet_checkpoint_path),\n",
    "    transform=create_chest_xray_transform_for_inference(resize=512, center_crop_size=480))\n",
    "\n",
    "# Instantiate the joint inference engine\n",
    "image_text_inference = ImageTextInferenceEngine(\n",
    "    image_inference_engine=image_inference,\n",
    "    text_inference_engine=text_inference,\n",
    ")"
   ]
  },
  {
   "cell_type": "code",
   "execution_count": null,
   "metadata": {},
   "outputs": [],
   "source": [
    "\n",
    "def plot_phrase_grounding(image_path: Path, text_prompt: str) -> None:\n",
    "    sim_map = image_text_inference.get_similarity_map_from_raw_data(image_path=image_path, query_text=text_prompt)\n",
    "    plot_phrase_grounding_similarity_map(image_path=image_path, similarity_map=sim_map)\n",
    "\n",
    "def plot_phrase_grounding_from_url(image_url: str, text_prompt: str) -> None:\n",
    "    image_path = Path(tempfile.tempdir, 'downloaded_chest_xray.jpg')\n",
    "    !curl -s -L -o {image_path} {image_url}\n",
    "    plot_phrase_grounding(image_path, text_prompt)"
   ]
  },
  {
   "cell_type": "code",
   "execution_count": null,
   "metadata": {},
   "outputs": [],
   "source": [
    "text_prompt = \"Pneumonia in the right lung\"\n",
    "image_url = \"https://prod-images-static.radiopaedia.org/images/1371188/0a1f5edc85aa58d5780928cb39b08659c1fc4d6d7c7dce2f8db1d63c7c737234_gallery.jpeg\"\n",
    "plot_phrase_grounding_from_url(image_url, text_prompt)"
   ]
  },
  {
   "cell_type": "code",
   "execution_count": null,
   "metadata": {},
   "outputs": [],
   "source": []
  }
 ],
 "metadata": {
  "kernelspec": {
   "display_name": "Python 3 (ipykernel)",
   "language": "python",
   "name": "python3"
  },
  "language_info": {
   "codemirror_mode": {
    "name": "ipython",
    "version": 3
   },
   "file_extension": ".py",
   "mimetype": "text/x-python",
   "name": "python",
   "nbconvert_exporter": "python",
   "pygments_lexer": "ipython3",
   "version": "3.7.13"
  },
  "vscode": {
   "interpreter": {
    "hash": "b10e2d33e98f46e002b38decbb3115032da80ae497861a1d67d5527569b17994"
   }
  }
 },
 "nbformat": 4,
 "nbformat_minor": 2
}
